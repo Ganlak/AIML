{
 "cells": [
  {
   "cell_type": "markdown",
   "id": "edb9ab21",
   "metadata": {},
   "source": [
    "# Importing Modules"
   ]
  },
  {
   "cell_type": "code",
   "execution_count": 1,
   "id": "a2c6772e",
   "metadata": {},
   "outputs": [],
   "source": [
    "import yaml\n",
    "import sys\n",
    "import hickle\n",
    "import warnings\n",
    "import pandas as pd\n",
    "import numpy as np\n",
    "import seaborn as sns\n",
    "from os.path import join as path_join\n",
    "from operator import itemgetter\n",
    "from sklearn.model_selection import train_test_split, RepeatedStratifiedKFold, RandomizedSearchCV, GridSearchCV, cross_val_score\n",
    "from sklearn.metrics import confusion_matrix, classification_report, accuracy_score\n",
    "from sklearn.ensemble import RandomForestClassifier, GradientBoostingClassifier\n",
    "from sklearn.neighbors import KNeighborsClassifier\n",
    "from sklearn.svm import SVC\n",
    "from sklearn.tree import DecisionTreeClassifier\n",
    "from sklearn.naive_bayes import MultinomialNB, GaussianNB\n",
    "from sklearn.linear_model import LogisticRegression\n",
    "from xgboost import XGBClassifier"
   ]
  },
  {
   "cell_type": "code",
   "execution_count": 2,
   "id": "274aef48",
   "metadata": {},
   "outputs": [],
   "source": [
    "warnings.filterwarnings(\"ignore\")"
   ]
  },
  {
   "cell_type": "markdown",
   "id": "dbfe1216",
   "metadata": {},
   "source": [
    "# Importing Dataset"
   ]
  },
  {
   "cell_type": "code",
   "execution_count": 3,
   "id": "d6bf4bbd",
   "metadata": {},
   "outputs": [],
   "source": [
    "config_file = path_join(\"config\", \"config.yml\")"
   ]
  },
  {
   "cell_type": "code",
   "execution_count": 4,
   "id": "00f15d92",
   "metadata": {},
   "outputs": [],
   "source": [
    "with open(config_file) as f:\n",
    "    config = yaml.safe_load(f)"
   ]
  },
  {
   "cell_type": "code",
   "execution_count": 5,
   "id": "d1881f1b",
   "metadata": {},
   "outputs": [],
   "source": [
    "train_orig = pd.read_csv(config[\"dataset\"][\"train\"])\n",
    "test_orig = pd.read_csv(config[\"dataset\"][\"test\"])"
   ]
  },
  {
   "cell_type": "code",
   "execution_count": 6,
   "id": "52c8ce4d",
   "metadata": {},
   "outputs": [],
   "source": [
    "train = train_orig.copy()\n",
    "test = test_orig.copy()"
   ]
  },
  {
   "cell_type": "markdown",
   "id": "0d355a42",
   "metadata": {},
   "source": [
    "# EDA"
   ]
  },
  {
   "cell_type": "code",
   "execution_count": 7,
   "id": "9a085d09",
   "metadata": {},
   "outputs": [
    {
     "name": "stdout",
     "output_type": "stream",
     "text": [
      "(614, 13) (367, 12)\n"
     ]
    }
   ],
   "source": [
    "print(train.shape, test.shape)"
   ]
  },
  {
   "cell_type": "code",
   "execution_count": 8,
   "id": "7f632da0",
   "metadata": {},
   "outputs": [
    {
     "name": "stdout",
     "output_type": "stream",
     "text": [
      "<class 'pandas.core.frame.DataFrame'>\n",
      "RangeIndex: 614 entries, 0 to 613\n",
      "Data columns (total 13 columns):\n",
      " #   Column             Non-Null Count  Dtype  \n",
      "---  ------             --------------  -----  \n",
      " 0   Loan_ID            614 non-null    object \n",
      " 1   Gender             601 non-null    object \n",
      " 2   Married            611 non-null    object \n",
      " 3   Dependents         599 non-null    object \n",
      " 4   Education          614 non-null    object \n",
      " 5   Self_Employed      582 non-null    object \n",
      " 6   ApplicantIncome    614 non-null    int64  \n",
      " 7   CoapplicantIncome  614 non-null    float64\n",
      " 8   LoanAmount         592 non-null    float64\n",
      " 9   Loan_Amount_Term   600 non-null    float64\n",
      " 10  Credit_History     564 non-null    float64\n",
      " 11  Property_Area      614 non-null    object \n",
      " 12  Loan_Status        614 non-null    object \n",
      "dtypes: float64(4), int64(1), object(8)\n",
      "memory usage: 62.5+ KB\n",
      "<class 'pandas.core.frame.DataFrame'>\n",
      "RangeIndex: 367 entries, 0 to 366\n",
      "Data columns (total 12 columns):\n",
      " #   Column             Non-Null Count  Dtype  \n",
      "---  ------             --------------  -----  \n",
      " 0   Loan_ID            367 non-null    object \n",
      " 1   Gender             356 non-null    object \n",
      " 2   Married            367 non-null    object \n",
      " 3   Dependents         357 non-null    object \n",
      " 4   Education          367 non-null    object \n",
      " 5   Self_Employed      344 non-null    object \n",
      " 6   ApplicantIncome    367 non-null    int64  \n",
      " 7   CoapplicantIncome  367 non-null    int64  \n",
      " 8   LoanAmount         362 non-null    float64\n",
      " 9   Loan_Amount_Term   361 non-null    float64\n",
      " 10  Credit_History     338 non-null    float64\n",
      " 11  Property_Area      367 non-null    object \n",
      "dtypes: float64(3), int64(2), object(7)\n",
      "memory usage: 34.5+ KB\n"
     ]
    },
    {
     "data": {
      "text/plain": [
       "(None, None)"
      ]
     },
     "execution_count": 8,
     "metadata": {},
     "output_type": "execute_result"
    }
   ],
   "source": [
    "train.info(), test.info()"
   ]
  },
  {
   "cell_type": "markdown",
   "id": "86368504",
   "metadata": {},
   "source": [
    "### Checking for null values"
   ]
  },
  {
   "cell_type": "code",
   "execution_count": 9,
   "id": "3dcb32e6",
   "metadata": {},
   "outputs": [
    {
     "data": {
      "text/plain": [
       "Loan_ID               0\n",
       "Gender               13\n",
       "Married               3\n",
       "Dependents           15\n",
       "Education             0\n",
       "Self_Employed        32\n",
       "ApplicantIncome       0\n",
       "CoapplicantIncome     0\n",
       "LoanAmount           22\n",
       "Loan_Amount_Term     14\n",
       "Credit_History       50\n",
       "Property_Area         0\n",
       "Loan_Status           0\n",
       "dtype: int64"
      ]
     },
     "execution_count": 9,
     "metadata": {},
     "output_type": "execute_result"
    }
   ],
   "source": [
    "train.isna().sum()"
   ]
  },
  {
   "cell_type": "markdown",
   "id": "02ee9e16",
   "metadata": {},
   "source": [
    "Missing values are idenfied in Gender, Married, Dependents, Self_Employed, Loan Amount, Loan_Amount_Term, Credit_History"
   ]
  },
  {
   "cell_type": "code",
   "execution_count": 10,
   "id": "511b08c9",
   "metadata": {},
   "outputs": [
    {
     "data": {
      "text/plain": [
       "Loan_ID               0\n",
       "Gender               11\n",
       "Married               0\n",
       "Dependents           10\n",
       "Education             0\n",
       "Self_Employed        23\n",
       "ApplicantIncome       0\n",
       "CoapplicantIncome     0\n",
       "LoanAmount            5\n",
       "Loan_Amount_Term      6\n",
       "Credit_History       29\n",
       "Property_Area         0\n",
       "dtype: int64"
      ]
     },
     "execution_count": 10,
     "metadata": {},
     "output_type": "execute_result"
    }
   ],
   "source": [
    "test.isna().sum()"
   ]
  },
  {
   "cell_type": "markdown",
   "id": "03d4af2a",
   "metadata": {},
   "source": [
    "Missing values are indetified in Gender, Dependents, Self_Employed, LoanAmount, Loan_Amount_Term, Credit_History"
   ]
  },
  {
   "cell_type": "markdown",
   "id": "86646cad",
   "metadata": {},
   "source": [
    "These null values will give impact on the data training and will give bias to the model while imputing. Instead we can drop the\n",
    "na to avoid noise and bias in train and test data"
   ]
  },
  {
   "cell_type": "markdown",
   "id": "913e2d7c",
   "metadata": {},
   "source": [
    "### Data Cleaning"
   ]
  },
  {
   "cell_type": "code",
   "execution_count": 11,
   "id": "a450421b",
   "metadata": {},
   "outputs": [],
   "source": [
    "train.dropna(inplace=True)\n",
    "test.dropna(inplace=True)"
   ]
  },
  {
   "cell_type": "code",
   "execution_count": 12,
   "id": "fa3160fc",
   "metadata": {},
   "outputs": [
    {
     "data": {
      "text/plain": [
       "((480, 13), (289, 12))"
      ]
     },
     "execution_count": 12,
     "metadata": {},
     "output_type": "execute_result"
    }
   ],
   "source": [
    "train.shape, test.shape"
   ]
  },
  {
   "cell_type": "markdown",
   "id": "3f39e8ed",
   "metadata": {},
   "source": [
    "### Data Analyzing"
   ]
  },
  {
   "cell_type": "code",
   "execution_count": 13,
   "id": "0821a579",
   "metadata": {},
   "outputs": [
    {
     "data": {
      "text/plain": [
       "Y    332\n",
       "N    148\n",
       "Name: Loan_Status, dtype: int64"
      ]
     },
     "execution_count": 13,
     "metadata": {},
     "output_type": "execute_result"
    }
   ],
   "source": [
    "train[\"Loan_Status\"].value_counts()"
   ]
  },
  {
   "cell_type": "markdown",
   "id": "6eae1027",
   "metadata": {},
   "source": [
    "#### Indentifying the Approved Loan status of each Attibutes"
   ]
  },
  {
   "cell_type": "code",
   "execution_count": 14,
   "id": "7c2aab29",
   "metadata": {},
   "outputs": [
    {
     "data": {
      "text/plain": [
       "Male      278\n",
       "Female     54\n",
       "Name: Gender, dtype: int64"
      ]
     },
     "execution_count": 14,
     "metadata": {},
     "output_type": "execute_result"
    }
   ],
   "source": [
    "train[train[\"Loan_Status\"] == \"Y\"][\"Gender\"].value_counts()"
   ]
  },
  {
   "cell_type": "code",
   "execution_count": 15,
   "id": "9a955fb4",
   "metadata": {},
   "outputs": [
    {
     "data": {
      "text/plain": [
       "<AxesSubplot:>"
      ]
     },
     "execution_count": 15,
     "metadata": {},
     "output_type": "execute_result"
    },
    {
     "data": {
      "image/png": "[encoded data removed]",
      "text/plain": [
       "<Figure size 432x288 with 1 Axes>"
      ]
     },
     "metadata": {
      "needs_background": "light"
     },
     "output_type": "display_data"
    }
   ],
   "source": [
    "train[train[\"Loan_Status\"] == \"Y\"][\"Gender\"].value_counts().plot.bar()"
   ]
  },
  {
   "cell_type": "markdown",
   "id": "9a558bed",
   "metadata": {},
   "source": [
    "Loans are get approved for Male is high in numbers"
   ]
  },
  {
   "cell_type": "code",
   "execution_count": 16,
   "id": "56ea4657",
   "metadata": {},
   "outputs": [
    {
     "data": {
      "text/plain": [
       "Yes    210\n",
       "No      68\n",
       "Name: Married, dtype: int64"
      ]
     },
     "execution_count": 16,
     "metadata": {},
     "output_type": "execute_result"
    }
   ],
   "source": [
    "train[(train[\"Loan_Status\"] == \"Y\") & (train[\"Gender\"] == \"Male\")][\"Married\"].value_counts()"
   ]
  },
  {
   "cell_type": "code",
   "execution_count": 17,
   "id": "3a673d61",
   "metadata": {},
   "outputs": [
    {
     "data": {
      "text/plain": [
       "No     37\n",
       "Yes    17\n",
       "Name: Married, dtype: int64"
      ]
     },
     "execution_count": 17,
     "metadata": {},
     "output_type": "execute_result"
    }
   ],
   "source": [
    "train[(train[\"Loan_Status\"] == \"Y\") & (train[\"Gender\"] == \"Female\")][\"Married\"].value_counts()"
   ]
  },
  {
   "cell_type": "markdown",
   "id": "41f6f284",
   "metadata": {},
   "source": [
    "Married males are higher in number and unmarried Females are higher in number"
   ]
  },
  {
   "cell_type": "code",
   "execution_count": 18,
   "id": "38c5f798",
   "metadata": {},
   "outputs": [
    {
     "data": {
      "text/plain": [
       "0     86\n",
       "2     59\n",
       "1     40\n",
       "3+    25\n",
       "Name: Dependents, dtype: int64"
      ]
     },
     "execution_count": 18,
     "metadata": {},
     "output_type": "execute_result"
    }
   ],
   "source": [
    "train[(train[\"Loan_Status\"] == \"Y\") & (train[\"Gender\"] == \"Male\") & (train[\"Married\"] == \"Yes\")][\"Dependents\"].value_counts()"
   ]
  },
  {
   "cell_type": "code",
   "execution_count": 19,
   "id": "2ac557f8",
   "metadata": {},
   "outputs": [
    {
     "data": {
      "text/plain": [
       "0    10\n",
       "1     5\n",
       "2     2\n",
       "Name: Dependents, dtype: int64"
      ]
     },
     "execution_count": 19,
     "metadata": {},
     "output_type": "execute_result"
    }
   ],
   "source": [
    "train[(train[\"Loan_Status\"] == \"Y\") & (train[\"Gender\"] == \"Female\") & (train[\"Married\"] == \"Yes\")][\"Dependents\"].value_counts()"
   ]
  },
  {
   "cell_type": "markdown",
   "id": "1ccd6513",
   "metadata": {},
   "source": [
    "As we looks loans got approved for without dependents is higher compare to with dependets for both married males and Femals"
   ]
  },
  {
   "cell_type": "code",
   "execution_count": 20,
   "id": "d4c71ce0",
   "metadata": {},
   "outputs": [
    {
     "data": {
      "text/plain": [
       "0     59\n",
       "2      4\n",
       "1      3\n",
       "3+     2\n",
       "Name: Dependents, dtype: int64"
      ]
     },
     "execution_count": 20,
     "metadata": {},
     "output_type": "execute_result"
    }
   ],
   "source": [
    "train[(train[\"Loan_Status\"] == \"Y\") & (train[\"Gender\"] == \"Male\") & (train[\"Married\"] == \"No\")][\"Dependents\"].value_counts()"
   ]
  },
  {
   "cell_type": "code",
   "execution_count": 21,
   "id": "a67d00c3",
   "metadata": {},
   "outputs": [
    {
     "data": {
      "text/plain": [
       "0     32\n",
       "1      4\n",
       "3+     1\n",
       "Name: Dependents, dtype: int64"
      ]
     },
     "execution_count": 21,
     "metadata": {},
     "output_type": "execute_result"
    }
   ],
   "source": [
    "train[(train[\"Loan_Status\"] == \"Y\") & (train[\"Gender\"] == \"Female\") & (train[\"Married\"] == \"No\")][\"Dependents\"].value_counts()"
   ]
  },
  {
   "cell_type": "markdown",
   "id": "a628ac2f",
   "metadata": {},
   "source": [
    "Even for unmarried without dependent is higher than with dependent for both male and Female"
   ]
  },
  {
   "cell_type": "code",
   "execution_count": 22,
   "id": "98cd6741",
   "metadata": {},
   "outputs": [
    {
     "data": {
      "text/plain": [
       "Graduate        76\n",
       "Not Graduate    10\n",
       "Name: Education, dtype: int64"
      ]
     },
     "execution_count": 22,
     "metadata": {},
     "output_type": "execute_result"
    }
   ],
   "source": [
    "train[(train[\"Loan_Status\"] == \"Y\") & (train[\"Gender\"] == \"Male\") & (train[\"Married\"] == \"Yes\") &\n",
    "      (train[\"Dependents\"] == \"0\")][\"Education\"].value_counts()"
   ]
  },
  {
   "cell_type": "code",
   "execution_count": 23,
   "id": "4afff8ac",
   "metadata": {},
   "outputs": [
    {
     "data": {
      "text/plain": [
       "Graduate        8\n",
       "Not Graduate    2\n",
       "Name: Education, dtype: int64"
      ]
     },
     "execution_count": 23,
     "metadata": {},
     "output_type": "execute_result"
    }
   ],
   "source": [
    "train[(train[\"Loan_Status\"] == \"Y\") & (train[\"Gender\"] == \"Female\") & (train[\"Married\"] == \"Yes\") &\n",
    "      (train[\"Dependents\"] == \"0\")][\"Education\"].value_counts()"
   ]
  },
  {
   "cell_type": "code",
   "execution_count": 24,
   "id": "ce3c2447",
   "metadata": {},
   "outputs": [
    {
     "data": {
      "text/plain": [
       "Graduate        46\n",
       "Not Graduate    13\n",
       "Name: Education, dtype: int64"
      ]
     },
     "execution_count": 24,
     "metadata": {},
     "output_type": "execute_result"
    }
   ],
   "source": [
    "train[(train[\"Loan_Status\"] == \"Y\") & (train[\"Gender\"] == \"Male\") & (train[\"Married\"] == \"No\") &\n",
    "      (train[\"Dependents\"] == \"0\")][\"Education\"].value_counts()"
   ]
  },
  {
   "cell_type": "code",
   "execution_count": 25,
   "id": "9995a620",
   "metadata": {},
   "outputs": [
    {
     "data": {
      "text/plain": [
       "Graduate        25\n",
       "Not Graduate     7\n",
       "Name: Education, dtype: int64"
      ]
     },
     "execution_count": 25,
     "metadata": {},
     "output_type": "execute_result"
    }
   ],
   "source": [
    "train[(train[\"Loan_Status\"] == \"Y\") & (train[\"Gender\"] == \"Female\") & (train[\"Married\"] == \"No\") &\n",
    "      (train[\"Dependents\"] == \"0\")][\"Education\"].value_counts()"
   ]
  },
  {
   "cell_type": "markdown",
   "id": "354d82e0",
   "metadata": {},
   "source": [
    "Loan got approved for both Married and Unmarried Males and Female graduate is higher than Non Graduate for non dependent"
   ]
  },
  {
   "cell_type": "code",
   "execution_count": 26,
   "id": "c3fdf54a",
   "metadata": {},
   "outputs": [
    {
     "data": {
      "text/plain": [
       "Graduate        97\n",
       "Not Graduate    27\n",
       "Name: Education, dtype: int64"
      ]
     },
     "execution_count": 26,
     "metadata": {},
     "output_type": "execute_result"
    }
   ],
   "source": [
    "train[(train[\"Loan_Status\"] == \"Y\") & (train[\"Gender\"] == \"Male\") & (train[\"Married\"] == \"Yes\") &\n",
    "      (train[\"Dependents\"] > \"0\")][\"Education\"].value_counts()"
   ]
  },
  {
   "cell_type": "markdown",
   "id": "ae49c3dc",
   "metadata": {},
   "source": [
    "Approval for loans are higher for Graduated Married males with the Dependent"
   ]
  },
  {
   "cell_type": "code",
   "execution_count": 27,
   "id": "e5794186",
   "metadata": {},
   "outputs": [
    {
     "data": {
      "text/plain": [
       "Graduate    7\n",
       "Name: Education, dtype: int64"
      ]
     },
     "execution_count": 27,
     "metadata": {},
     "output_type": "execute_result"
    }
   ],
   "source": [
    "train[(train[\"Loan_Status\"] == \"Y\") & (train[\"Gender\"] == \"Female\") & (train[\"Married\"] == \"Yes\") &\n",
    "      (train[\"Dependents\"] > \"0\")][\"Education\"].value_counts()"
   ]
  },
  {
   "cell_type": "markdown",
   "id": "a6a1e34f",
   "metadata": {},
   "source": [
    "Only for the Graduate Married womens are getting Loans with minimal number"
   ]
  },
  {
   "cell_type": "code",
   "execution_count": 28,
   "id": "c082d6b8",
   "metadata": {},
   "outputs": [
    {
     "data": {
      "text/plain": [
       "No     67\n",
       "Yes     9\n",
       "Name: Self_Employed, dtype: int64"
      ]
     },
     "execution_count": 28,
     "metadata": {},
     "output_type": "execute_result"
    }
   ],
   "source": [
    "train[(train[\"Loan_Status\"] == \"Y\") & (train[\"Gender\"] == \"Male\") & (train[\"Married\"] == \"Yes\") &\n",
    "      (train[\"Dependents\"] == \"0\") & (train[\"Education\"] == \"Graduate\")][\"Self_Employed\"].value_counts()"
   ]
  },
  {
   "cell_type": "code",
   "execution_count": 29,
   "id": "04406d7d",
   "metadata": {},
   "outputs": [
    {
     "data": {
      "text/plain": [
       "No     40\n",
       "Yes     6\n",
       "Name: Self_Employed, dtype: int64"
      ]
     },
     "execution_count": 29,
     "metadata": {},
     "output_type": "execute_result"
    }
   ],
   "source": [
    "train[(train[\"Loan_Status\"] == \"Y\") & (train[\"Gender\"] == \"Male\") & (train[\"Married\"] == \"No\") &\n",
    "      (train[\"Dependents\"] == \"0\") & (train[\"Education\"] == \"Graduate\")][\"Self_Employed\"].value_counts()"
   ]
  },
  {
   "cell_type": "markdown",
   "id": "1495d1bf",
   "metadata": {},
   "source": [
    "Compare to male both married and unmarried Graduated self employed, salaried person are higher with Dependents"
   ]
  },
  {
   "cell_type": "code",
   "execution_count": 30,
   "id": "435e33c4",
   "metadata": {},
   "outputs": [
    {
     "data": {
      "text/plain": [
       "No    8\n",
       "Name: Self_Employed, dtype: int64"
      ]
     },
     "execution_count": 30,
     "metadata": {},
     "output_type": "execute_result"
    }
   ],
   "source": [
    "train[(train[\"Loan_Status\"] == \"Y\") & (train[\"Gender\"] == \"Female\") & (train[\"Married\"] == \"Yes\") &\n",
    "      (train[\"Dependents\"] == \"0\") & (train[\"Education\"] == \"Graduate\")][\"Self_Employed\"].value_counts()"
   ]
  },
  {
   "cell_type": "markdown",
   "id": "e8b12c85",
   "metadata": {},
   "source": [
    "Loans are got approved only for Married Female salaried employee without dependents"
   ]
  },
  {
   "cell_type": "code",
   "execution_count": 31,
   "id": "e6bd3b2a",
   "metadata": {},
   "outputs": [
    {
     "data": {
      "text/plain": [
       "No     24\n",
       "Yes     1\n",
       "Name: Self_Employed, dtype: int64"
      ]
     },
     "execution_count": 31,
     "metadata": {},
     "output_type": "execute_result"
    }
   ],
   "source": [
    "train[(train[\"Loan_Status\"] == \"Y\") & (train[\"Gender\"] == \"Female\") & (train[\"Married\"] == \"No\") &\n",
    "      (train[\"Dependents\"] == \"0\") & (train[\"Education\"] == \"Graduate\")][\"Self_Employed\"].value_counts()"
   ]
  },
  {
   "cell_type": "markdown",
   "id": "9cd17973",
   "metadata": {},
   "source": [
    "Only one single female educated self employed got the loan approval without dependent"
   ]
  },
  {
   "cell_type": "code",
   "execution_count": 32,
   "id": "93d3f543",
   "metadata": {},
   "outputs": [
    {
     "data": {
      "text/plain": [
       "Semiurban    149\n",
       "Urban         98\n",
       "Rural         85\n",
       "Name: Property_Area, dtype: int64"
      ]
     },
     "execution_count": 32,
     "metadata": {},
     "output_type": "execute_result"
    }
   ],
   "source": [
    "train[(train[\"Loan_Status\"] == \"Y\")][\"Property_Area\"].value_counts()"
   ]
  },
  {
   "cell_type": "raw",
   "id": "674cc157",
   "metadata": {},
   "source": [
    "Observation:\n",
    "============\n",
    "Loans are get approved for Male is high in numbers\n",
    "Married males are higher in number and unmarried Females are higher in number\n",
    "As we looks loans got approved for without dependents is higher compare to with dependets for both married males and Females\n",
    "Even for unmarried without dependent is higher than with dependent for both male and Female\n",
    "Loan got approved for both Married and Unmarried Males and Female graduate is higher than Non Graduate for non dependent\n",
    "Approval for loans are higher for Graduated Married males with the Dependent\n",
    "Only for the Graduate Married womens are getting Loans with minimal number\n",
    "Compare to male both married and unmarried Graduated self employed, salaried person are higher with Dependents\n",
    "Loans are got approved only for Married Female salaried employee without dependents\n",
    "Only one single female educated self employed got the loan approval without dependent\n",
    "There are more Outlier on each of the match cases observered\n"
   ]
  },
  {
   "cell_type": "markdown",
   "id": "22c2d50e",
   "metadata": {},
   "source": [
    "# Preparing the Train and Test Dataset"
   ]
  },
  {
   "cell_type": "code",
   "execution_count": 33,
   "id": "ec6912dc",
   "metadata": {},
   "outputs": [],
   "source": [
    "train=train.drop('Loan_ID',axis=1)\n",
    "test=test.drop('Loan_ID',axis=1)"
   ]
  },
  {
   "cell_type": "code",
   "execution_count": 34,
   "id": "deda770b",
   "metadata": {},
   "outputs": [],
   "source": [
    "X = train.drop('Loan_Status',1) \n",
    "y = train.Loan_Status"
   ]
  },
  {
   "cell_type": "markdown",
   "id": "9faff3f5",
   "metadata": {},
   "source": [
    "### Now we will make dummy variables for the categorical variables."
   ]
  },
  {
   "cell_type": "code",
   "execution_count": 35,
   "id": "1e493a05",
   "metadata": {},
   "outputs": [],
   "source": [
    "X = pd.get_dummies(X)"
   ]
  },
  {
   "cell_type": "markdown",
   "id": "3a279a35",
   "metadata": {},
   "source": [
    "# Model Selection:"
   ]
  },
  {
   "cell_type": "markdown",
   "id": "36748c60",
   "metadata": {},
   "source": [
    "### Selecting the best suitable model for Loan prediction"
   ]
  },
  {
   "cell_type": "code",
   "execution_count": 36,
   "id": "6132df9b",
   "metadata": {},
   "outputs": [],
   "source": [
    "models = [\n",
    "          KNeighborsClassifier(),\n",
    "          LogisticRegression(),\n",
    "          RandomForestClassifier(),\n",
    "          DecisionTreeClassifier(),\n",
    "          SVC(),\n",
    "          GradientBoostingClassifier(),\n",
    "          XGBClassifier()\n",
    "]"
   ]
  },
  {
   "cell_type": "code",
   "execution_count": 37,
   "id": "1b72f953",
   "metadata": {},
   "outputs": [],
   "source": [
    "CV = 5\n",
    "cv_df = pd.DataFrame(index = range(CV * len(models)))"
   ]
  },
  {
   "cell_type": "code",
   "execution_count": 38,
   "id": "4ed48eec",
   "metadata": {},
   "outputs": [],
   "source": [
    "entries = []\n",
    "for model in models:\n",
    "    model_name = model.__class__.__name__\n",
    "    accuracies = cross_val_score(model, X,y, scoring = 'accuracy', cv=CV)\n",
    "    for fold_idx, accuracy in enumerate(accuracies):\n",
    "        entries.append((model_name, fold_idx, accuracy))\n",
    "cv_df = pd.DataFrame(entries, columns = ['model_name', 'fold_idx', 'accuracy'])"
   ]
  },
  {
   "cell_type": "code",
   "execution_count": 39,
   "id": "433d1e0b",
   "metadata": {},
   "outputs": [
    {
     "data": {
      "text/html": [
       "<div>\n",
       "<style scoped>\n",
       "    .dataframe tbody tr th:only-of-type {\n",
       "        vertical-align: middle;\n",
       "    }\n",
       "\n",
       "    .dataframe tbody tr th {\n",
       "        vertical-align: top;\n",
       "    }\n",
       "\n",
       "    .dataframe thead th {\n",
       "        text-align: right;\n",
       "    }\n",
       "</style>\n",
       "<table border=\"1\" class=\"dataframe\">\n",
       "  <thead>\n",
       "    <tr style=\"text-align: right;\">\n",
       "      <th></th>\n",
       "      <th>model_name</th>\n",
       "      <th>fold_idx</th>\n",
       "      <th>accuracy</th>\n",
       "    </tr>\n",
       "  </thead>\n",
       "  <tbody>\n",
       "    <tr>\n",
       "      <th>0</th>\n",
       "      <td>KNeighborsClassifier</td>\n",
       "      <td>0</td>\n",
       "      <td>0.677083</td>\n",
       "    </tr>\n",
       "    <tr>\n",
       "      <th>1</th>\n",
       "      <td>KNeighborsClassifier</td>\n",
       "      <td>1</td>\n",
       "      <td>0.677083</td>\n",
       "    </tr>\n",
       "    <tr>\n",
       "      <th>2</th>\n",
       "      <td>KNeighborsClassifier</td>\n",
       "      <td>2</td>\n",
       "      <td>0.666667</td>\n",
       "    </tr>\n",
       "    <tr>\n",
       "      <th>3</th>\n",
       "      <td>KNeighborsClassifier</td>\n",
       "      <td>3</td>\n",
       "      <td>0.583333</td>\n",
       "    </tr>\n",
       "    <tr>\n",
       "      <th>4</th>\n",
       "      <td>KNeighborsClassifier</td>\n",
       "      <td>4</td>\n",
       "      <td>0.645833</td>\n",
       "    </tr>\n",
       "    <tr>\n",
       "      <th>5</th>\n",
       "      <td>LogisticRegression</td>\n",
       "      <td>0</td>\n",
       "      <td>0.802083</td>\n",
       "    </tr>\n",
       "    <tr>\n",
       "      <th>6</th>\n",
       "      <td>LogisticRegression</td>\n",
       "      <td>1</td>\n",
       "      <td>0.781250</td>\n",
       "    </tr>\n",
       "    <tr>\n",
       "      <th>7</th>\n",
       "      <td>LogisticRegression</td>\n",
       "      <td>2</td>\n",
       "      <td>0.781250</td>\n",
       "    </tr>\n",
       "    <tr>\n",
       "      <th>8</th>\n",
       "      <td>LogisticRegression</td>\n",
       "      <td>3</td>\n",
       "      <td>0.854167</td>\n",
       "    </tr>\n",
       "    <tr>\n",
       "      <th>9</th>\n",
       "      <td>LogisticRegression</td>\n",
       "      <td>4</td>\n",
       "      <td>0.760417</td>\n",
       "    </tr>\n",
       "    <tr>\n",
       "      <th>10</th>\n",
       "      <td>RandomForestClassifier</td>\n",
       "      <td>0</td>\n",
       "      <td>0.802083</td>\n",
       "    </tr>\n",
       "    <tr>\n",
       "      <th>11</th>\n",
       "      <td>RandomForestClassifier</td>\n",
       "      <td>1</td>\n",
       "      <td>0.781250</td>\n",
       "    </tr>\n",
       "    <tr>\n",
       "      <th>12</th>\n",
       "      <td>RandomForestClassifier</td>\n",
       "      <td>2</td>\n",
       "      <td>0.770833</td>\n",
       "    </tr>\n",
       "    <tr>\n",
       "      <th>13</th>\n",
       "      <td>RandomForestClassifier</td>\n",
       "      <td>3</td>\n",
       "      <td>0.791667</td>\n",
       "    </tr>\n",
       "    <tr>\n",
       "      <th>14</th>\n",
       "      <td>RandomForestClassifier</td>\n",
       "      <td>4</td>\n",
       "      <td>0.812500</td>\n",
       "    </tr>\n",
       "    <tr>\n",
       "      <th>15</th>\n",
       "      <td>DecisionTreeClassifier</td>\n",
       "      <td>0</td>\n",
       "      <td>0.708333</td>\n",
       "    </tr>\n",
       "    <tr>\n",
       "      <th>16</th>\n",
       "      <td>DecisionTreeClassifier</td>\n",
       "      <td>1</td>\n",
       "      <td>0.708333</td>\n",
       "    </tr>\n",
       "    <tr>\n",
       "      <th>17</th>\n",
       "      <td>DecisionTreeClassifier</td>\n",
       "      <td>2</td>\n",
       "      <td>0.718750</td>\n",
       "    </tr>\n",
       "    <tr>\n",
       "      <th>18</th>\n",
       "      <td>DecisionTreeClassifier</td>\n",
       "      <td>3</td>\n",
       "      <td>0.739583</td>\n",
       "    </tr>\n",
       "    <tr>\n",
       "      <th>19</th>\n",
       "      <td>DecisionTreeClassifier</td>\n",
       "      <td>4</td>\n",
       "      <td>0.697917</td>\n",
       "    </tr>\n",
       "    <tr>\n",
       "      <th>20</th>\n",
       "      <td>SVC</td>\n",
       "      <td>0</td>\n",
       "      <td>0.687500</td>\n",
       "    </tr>\n",
       "    <tr>\n",
       "      <th>21</th>\n",
       "      <td>SVC</td>\n",
       "      <td>1</td>\n",
       "      <td>0.687500</td>\n",
       "    </tr>\n",
       "    <tr>\n",
       "      <th>22</th>\n",
       "      <td>SVC</td>\n",
       "      <td>2</td>\n",
       "      <td>0.687500</td>\n",
       "    </tr>\n",
       "    <tr>\n",
       "      <th>23</th>\n",
       "      <td>SVC</td>\n",
       "      <td>3</td>\n",
       "      <td>0.697917</td>\n",
       "    </tr>\n",
       "    <tr>\n",
       "      <th>24</th>\n",
       "      <td>SVC</td>\n",
       "      <td>4</td>\n",
       "      <td>0.697917</td>\n",
       "    </tr>\n",
       "    <tr>\n",
       "      <th>25</th>\n",
       "      <td>GradientBoostingClassifier</td>\n",
       "      <td>0</td>\n",
       "      <td>0.791667</td>\n",
       "    </tr>\n",
       "    <tr>\n",
       "      <th>26</th>\n",
       "      <td>GradientBoostingClassifier</td>\n",
       "      <td>1</td>\n",
       "      <td>0.718750</td>\n",
       "    </tr>\n",
       "    <tr>\n",
       "      <th>27</th>\n",
       "      <td>GradientBoostingClassifier</td>\n",
       "      <td>2</td>\n",
       "      <td>0.791667</td>\n",
       "    </tr>\n",
       "    <tr>\n",
       "      <th>28</th>\n",
       "      <td>GradientBoostingClassifier</td>\n",
       "      <td>3</td>\n",
       "      <td>0.812500</td>\n",
       "    </tr>\n",
       "    <tr>\n",
       "      <th>29</th>\n",
       "      <td>GradientBoostingClassifier</td>\n",
       "      <td>4</td>\n",
       "      <td>0.802083</td>\n",
       "    </tr>\n",
       "    <tr>\n",
       "      <th>30</th>\n",
       "      <td>XGBClassifier</td>\n",
       "      <td>0</td>\n",
       "      <td>NaN</td>\n",
       "    </tr>\n",
       "    <tr>\n",
       "      <th>31</th>\n",
       "      <td>XGBClassifier</td>\n",
       "      <td>1</td>\n",
       "      <td>NaN</td>\n",
       "    </tr>\n",
       "    <tr>\n",
       "      <th>32</th>\n",
       "      <td>XGBClassifier</td>\n",
       "      <td>2</td>\n",
       "      <td>NaN</td>\n",
       "    </tr>\n",
       "    <tr>\n",
       "      <th>33</th>\n",
       "      <td>XGBClassifier</td>\n",
       "      <td>3</td>\n",
       "      <td>NaN</td>\n",
       "    </tr>\n",
       "    <tr>\n",
       "      <th>34</th>\n",
       "      <td>XGBClassifier</td>\n",
       "      <td>4</td>\n",
       "      <td>NaN</td>\n",
       "    </tr>\n",
       "  </tbody>\n",
       "</table>\n",
       "</div>"
      ],
      "text/plain": [
       "                    model_name  fold_idx  accuracy\n",
       "0         KNeighborsClassifier         0  0.677083\n",
       "1         KNeighborsClassifier         1  0.677083\n",
       "2         KNeighborsClassifier         2  0.666667\n",
       "3         KNeighborsClassifier         3  0.583333\n",
       "4         KNeighborsClassifier         4  0.645833\n",
       "5           LogisticRegression         0  0.802083\n",
       "6           LogisticRegression         1  0.781250\n",
       "7           LogisticRegression         2  0.781250\n",
       "8           LogisticRegression         3  0.854167\n",
       "9           LogisticRegression         4  0.760417\n",
       "10      RandomForestClassifier         0  0.802083\n",
       "11      RandomForestClassifier         1  0.781250\n",
       "12      RandomForestClassifier         2  0.770833\n",
       "13      RandomForestClassifier         3  0.791667\n",
       "14      RandomForestClassifier         4  0.812500\n",
       "15      DecisionTreeClassifier         0  0.708333\n",
       "16      DecisionTreeClassifier         1  0.708333\n",
       "17      DecisionTreeClassifier         2  0.718750\n",
       "18      DecisionTreeClassifier         3  0.739583\n",
       "19      DecisionTreeClassifier         4  0.697917\n",
       "20                         SVC         0  0.687500\n",
       "21                         SVC         1  0.687500\n",
       "22                         SVC         2  0.687500\n",
       "23                         SVC         3  0.697917\n",
       "24                         SVC         4  0.697917\n",
       "25  GradientBoostingClassifier         0  0.791667\n",
       "26  GradientBoostingClassifier         1  0.718750\n",
       "27  GradientBoostingClassifier         2  0.791667\n",
       "28  GradientBoostingClassifier         3  0.812500\n",
       "29  GradientBoostingClassifier         4  0.802083\n",
       "30               XGBClassifier         0       NaN\n",
       "31               XGBClassifier         1       NaN\n",
       "32               XGBClassifier         2       NaN\n",
       "33               XGBClassifier         3       NaN\n",
       "34               XGBClassifier         4       NaN"
      ]
     },
     "execution_count": 39,
     "metadata": {},
     "output_type": "execute_result"
    }
   ],
   "source": [
    "cv_df"
   ]
  },
  {
   "cell_type": "markdown",
   "id": "42a49921",
   "metadata": {},
   "source": [
    "As we found that the Logistic Regression play the leading role compare other models. Hence we can choose GradientBoostingClassifier as Model Selection"
   ]
  },
  {
   "cell_type": "markdown",
   "id": "6b535012",
   "metadata": {},
   "source": [
    "# Model Building"
   ]
  },
  {
   "cell_type": "markdown",
   "id": "a7593139",
   "metadata": {},
   "source": [
    "#### Fetching the seed value for the highest model prediction"
   ]
  },
  {
   "cell_type": "code",
   "execution_count": 40,
   "id": "4e737691",
   "metadata": {},
   "outputs": [
    {
     "name": "stdout",
     "output_type": "stream",
     "text": [
      "Train Score :0.9965277777777778 Test Score :0.7760416666666666 Random seed:1\n",
      "Train Score :1.0 Test Score :0.7552083333333334 Random seed:2\n",
      "Train Score :0.9930555555555556 Test Score :0.75 Random seed:3\n",
      "Train Score :0.9965277777777778 Test Score :0.8020833333333334 Random seed:4\n",
      "Train Score :1.0 Test Score :0.75 Random seed:5\n",
      "Train Score :1.0 Test Score :0.7604166666666666 Random seed:6\n",
      "Train Score :0.9965277777777778 Test Score :0.734375 Random seed:7\n",
      "Train Score :0.9930555555555556 Test Score :0.7552083333333334 Random seed:8\n",
      "Train Score :0.9895833333333334 Test Score :0.7291666666666666 Random seed:9\n",
      "Train Score :0.9965277777777778 Test Score :0.8125 Random seed:10\n",
      "Train Score :0.9930555555555556 Test Score :0.7552083333333334 Random seed:11\n",
      "Train Score :1.0 Test Score :0.75 Random seed:12\n",
      "Train Score :0.9965277777777778 Test Score :0.734375 Random seed:13\n",
      "Train Score :1.0 Test Score :0.734375 Random seed:14\n",
      "Train Score :0.9965277777777778 Test Score :0.7708333333333334 Random seed:15\n",
      "Train Score :0.9930555555555556 Test Score :0.7708333333333334 Random seed:16\n",
      "Train Score :1.0 Test Score :0.7916666666666666 Random seed:17\n",
      "Train Score :0.9965277777777778 Test Score :0.7760416666666666 Random seed:18\n",
      "Train Score :0.9965277777777778 Test Score :0.7291666666666666 Random seed:19\n",
      "Train Score :1.0 Test Score :0.7395833333333334 Random seed:20\n",
      "Train Score :0.9965277777777778 Test Score :0.7604166666666666 Random seed:21\n",
      "Train Score :0.9895833333333334 Test Score :0.765625 Random seed:22\n",
      "Train Score :0.9965277777777778 Test Score :0.8177083333333334 Random seed:23\n",
      "Train Score :0.9965277777777778 Test Score :0.765625 Random seed:24\n",
      "Train Score :1.0 Test Score :0.7552083333333334 Random seed:25\n",
      "Train Score :1.0 Test Score :0.7604166666666666 Random seed:26\n",
      "Train Score :1.0 Test Score :0.7604166666666666 Random seed:27\n",
      "Train Score :1.0 Test Score :0.7760416666666666 Random seed:28\n",
      "Train Score :1.0 Test Score :0.765625 Random seed:29\n",
      "Train Score :1.0 Test Score :0.8020833333333334 Random seed:30\n",
      "Train Score :1.0 Test Score :0.7708333333333334 Random seed:31\n",
      "Train Score :0.9965277777777778 Test Score :0.7447916666666666 Random seed:32\n",
      "Train Score :0.9895833333333334 Test Score :0.7604166666666666 Random seed:33\n",
      "Train Score :0.9965277777777778 Test Score :0.7708333333333334 Random seed:34\n",
      "Train Score :1.0 Test Score :0.7708333333333334 Random seed:35\n",
      "Train Score :1.0 Test Score :0.8020833333333334 Random seed:36\n",
      "Train Score :1.0 Test Score :0.7708333333333334 Random seed:37\n",
      "Train Score :0.9930555555555556 Test Score :0.765625 Random seed:38\n",
      "Train Score :1.0 Test Score :0.765625 Random seed:39\n",
      "Train Score :0.9965277777777778 Test Score :0.7604166666666666 Random seed:40\n",
      "Train Score :0.9895833333333334 Test Score :0.7760416666666666 Random seed:41\n",
      "Train Score :0.9965277777777778 Test Score :0.765625 Random seed:42\n",
      "Train Score :1.0 Test Score :0.7760416666666666 Random seed:43\n",
      "Train Score :1.0 Test Score :0.7708333333333334 Random seed:44\n",
      "Train Score :0.9895833333333334 Test Score :0.7708333333333334 Random seed:45\n",
      "Train Score :1.0 Test Score :0.7708333333333334 Random seed:46\n",
      "Train Score :0.9930555555555556 Test Score :0.734375 Random seed:47\n",
      "Train Score :1.0 Test Score :0.7135416666666666 Random seed:48\n",
      "Train Score :1.0 Test Score :0.7604166666666666 Random seed:49\n",
      "Train Score :1.0 Test Score :0.7708333333333334 Random seed:50\n",
      "Train Score :1.0 Test Score :0.7395833333333334 Random seed:51\n",
      "Train Score :1.0 Test Score :0.7864583333333334 Random seed:52\n",
      "Train Score :1.0 Test Score :0.7708333333333334 Random seed:53\n",
      "Train Score :1.0 Test Score :0.8072916666666666 Random seed:54\n",
      "Train Score :0.9965277777777778 Test Score :0.7604166666666666 Random seed:55\n",
      "Train Score :0.9930555555555556 Test Score :0.7760416666666666 Random seed:56\n",
      "Train Score :1.0 Test Score :0.7604166666666666 Random seed:57\n",
      "Train Score :1.0 Test Score :0.7760416666666666 Random seed:58\n",
      "Train Score :0.9965277777777778 Test Score :0.7447916666666666 Random seed:59\n",
      "Train Score :1.0 Test Score :0.7760416666666666 Random seed:60\n",
      "Train Score :0.9965277777777778 Test Score :0.765625 Random seed:61\n",
      "Train Score :0.9965277777777778 Test Score :0.7447916666666666 Random seed:62\n",
      "Train Score :1.0 Test Score :0.7604166666666666 Random seed:63\n",
      "Train Score :1.0 Test Score :0.765625 Random seed:64\n",
      "Train Score :0.9965277777777778 Test Score :0.7864583333333334 Random seed:65\n",
      "Train Score :0.9965277777777778 Test Score :0.796875 Random seed:66\n",
      "Train Score :0.9930555555555556 Test Score :0.8072916666666666 Random seed:67\n",
      "Train Score :0.9965277777777778 Test Score :0.7552083333333334 Random seed:68\n",
      "Train Score :0.9965277777777778 Test Score :0.78125 Random seed:69\n",
      "Train Score :0.9965277777777778 Test Score :0.75 Random seed:70\n",
      "Train Score :1.0 Test Score :0.75 Random seed:71\n",
      "Train Score :1.0 Test Score :0.7708333333333334 Random seed:72\n",
      "Train Score :0.9930555555555556 Test Score :0.7552083333333334 Random seed:73\n",
      "Train Score :1.0 Test Score :0.7604166666666666 Random seed:74\n",
      "Train Score :1.0 Test Score :0.7864583333333334 Random seed:75\n",
      "Train Score :0.9965277777777778 Test Score :0.7604166666666666 Random seed:76\n",
      "Train Score :0.9965277777777778 Test Score :0.75 Random seed:77\n",
      "Train Score :0.9965277777777778 Test Score :0.71875 Random seed:78\n",
      "Train Score :0.9965277777777778 Test Score :0.765625 Random seed:79\n",
      "Train Score :1.0 Test Score :0.75 Random seed:80\n",
      "Train Score :0.9930555555555556 Test Score :0.765625 Random seed:81\n",
      "Train Score :1.0 Test Score :0.796875 Random seed:82\n",
      "Train Score :0.9965277777777778 Test Score :0.7760416666666666 Random seed:83\n",
      "Train Score :0.9930555555555556 Test Score :0.7864583333333334 Random seed:84\n",
      "Train Score :0.9930555555555556 Test Score :0.7864583333333334 Random seed:85\n",
      "Train Score :0.9861111111111112 Test Score :0.7916666666666666 Random seed:86\n",
      "Train Score :0.9930555555555556 Test Score :0.7916666666666666 Random seed:87\n",
      "Train Score :0.9965277777777778 Test Score :0.7604166666666666 Random seed:88\n",
      "Train Score :0.9930555555555556 Test Score :0.7447916666666666 Random seed:89\n",
      "Train Score :1.0 Test Score :0.75 Random seed:90\n",
      "Train Score :0.9965277777777778 Test Score :0.734375 Random seed:91\n",
      "Train Score :1.0 Test Score :0.7708333333333334 Random seed:92\n",
      "Train Score :1.0 Test Score :0.78125 Random seed:93\n",
      "Train Score :1.0 Test Score :0.7447916666666666 Random seed:94\n",
      "Train Score :1.0 Test Score :0.7395833333333334 Random seed:95\n",
      "Train Score :0.9895833333333334 Test Score :0.78125 Random seed:96\n",
      "Train Score :0.9965277777777778 Test Score :0.7604166666666666 Random seed:97\n",
      "Train Score :1.0 Test Score :0.7760416666666666 Random seed:98\n",
      "Train Score :0.9965277777777778 Test Score :0.7604166666666666 Random seed:99\n",
      "Train Score :0.9895833333333334 Test Score :0.78125 Random seed:100\n",
      "Train Score :1.0 Test Score :0.7760416666666666 Random seed:101\n",
      "Train Score :0.9930555555555556 Test Score :0.71875 Random seed:102\n",
      "Train Score :1.0 Test Score :0.7447916666666666 Random seed:103\n",
      "Train Score :1.0 Test Score :0.7864583333333334 Random seed:104\n",
      "Train Score :0.9965277777777778 Test Score :0.8020833333333334 Random seed:105\n",
      "Train Score :0.9965277777777778 Test Score :0.765625 Random seed:106\n",
      "Train Score :1.0 Test Score :0.7239583333333334 Random seed:107\n",
      "Train Score :1.0 Test Score :0.7760416666666666 Random seed:108\n",
      "Train Score :0.9895833333333334 Test Score :0.7864583333333334 Random seed:109\n",
      "Train Score :1.0 Test Score :0.8020833333333334 Random seed:110\n",
      "Train Score :0.9861111111111112 Test Score :0.7395833333333334 Random seed:111\n",
      "Train Score :0.9965277777777778 Test Score :0.7708333333333334 Random seed:112\n",
      "Train Score :0.9930555555555556 Test Score :0.7552083333333334 Random seed:113\n",
      "Train Score :0.9965277777777778 Test Score :0.7760416666666666 Random seed:114\n",
      "Train Score :0.9965277777777778 Test Score :0.7708333333333334 Random seed:115\n",
      "Train Score :1.0 Test Score :0.765625 Random seed:116\n",
      "Train Score :1.0 Test Score :0.7447916666666666 Random seed:117\n",
      "Train Score :1.0 Test Score :0.7552083333333334 Random seed:118\n",
      "Train Score :0.9965277777777778 Test Score :0.8020833333333334 Random seed:119\n",
      "Train Score :0.9895833333333334 Test Score :0.796875 Random seed:120\n",
      "Train Score :0.9965277777777778 Test Score :0.8177083333333334 Random seed:121\n",
      "Train Score :0.9965277777777778 Test Score :0.7604166666666666 Random seed:122\n"
     ]
    },
    {
     "name": "stdout",
     "output_type": "stream",
     "text": [
      "Train Score :0.9965277777777778 Test Score :0.796875 Random seed:123\n",
      "Train Score :1.0 Test Score :0.7864583333333334 Random seed:124\n",
      "Train Score :1.0 Test Score :0.734375 Random seed:125\n",
      "Train Score :1.0 Test Score :0.78125 Random seed:126\n",
      "Train Score :0.9895833333333334 Test Score :0.7760416666666666 Random seed:127\n",
      "Train Score :0.9965277777777778 Test Score :0.7760416666666666 Random seed:128\n",
      "Train Score :0.9861111111111112 Test Score :0.796875 Random seed:129\n",
      "Train Score :0.9965277777777778 Test Score :0.7916666666666666 Random seed:130\n",
      "Train Score :0.9965277777777778 Test Score :0.7447916666666666 Random seed:131\n",
      "Train Score :0.9965277777777778 Test Score :0.7395833333333334 Random seed:132\n",
      "Train Score :0.9965277777777778 Test Score :0.7604166666666666 Random seed:133\n",
      "Train Score :0.9895833333333334 Test Score :0.8125 Random seed:134\n",
      "Train Score :0.9965277777777778 Test Score :0.765625 Random seed:135\n",
      "Train Score :0.9965277777777778 Test Score :0.75 Random seed:136\n",
      "Train Score :0.9965277777777778 Test Score :0.7708333333333334 Random seed:137\n",
      "Train Score :1.0 Test Score :0.7552083333333334 Random seed:138\n",
      "Train Score :0.9930555555555556 Test Score :0.796875 Random seed:139\n",
      "Train Score :1.0 Test Score :0.7604166666666666 Random seed:140\n",
      "Train Score :0.9965277777777778 Test Score :0.7864583333333334 Random seed:141\n",
      "Train Score :0.9965277777777778 Test Score :0.7760416666666666 Random seed:142\n",
      "Train Score :1.0 Test Score :0.7395833333333334 Random seed:143\n",
      "Train Score :0.9930555555555556 Test Score :0.7864583333333334 Random seed:144\n",
      "Train Score :0.9965277777777778 Test Score :0.7916666666666666 Random seed:145\n",
      "Train Score :0.9965277777777778 Test Score :0.765625 Random seed:146\n",
      "Train Score :0.9965277777777778 Test Score :0.75 Random seed:147\n",
      "Train Score :0.9965277777777778 Test Score :0.71875 Random seed:148\n",
      "Train Score :1.0 Test Score :0.7552083333333334 Random seed:149\n",
      "Train Score :1.0 Test Score :0.8020833333333334 Random seed:150\n",
      "Train Score :1.0 Test Score :0.7708333333333334 Random seed:151\n",
      "Train Score :1.0 Test Score :0.7604166666666666 Random seed:152\n",
      "Train Score :1.0 Test Score :0.7604166666666666 Random seed:153\n",
      "Train Score :1.0 Test Score :0.7708333333333334 Random seed:154\n",
      "Train Score :0.9965277777777778 Test Score :0.7239583333333334 Random seed:155\n",
      "Train Score :1.0 Test Score :0.7447916666666666 Random seed:156\n",
      "Train Score :0.9965277777777778 Test Score :0.8229166666666666 Random seed:157\n",
      "Train Score :1.0 Test Score :0.7864583333333334 Random seed:158\n",
      "Train Score :0.9965277777777778 Test Score :0.7708333333333334 Random seed:159\n",
      "Train Score :1.0 Test Score :0.78125 Random seed:160\n",
      "Train Score :0.9930555555555556 Test Score :0.8229166666666666 Random seed:161\n",
      "Train Score :0.9930555555555556 Test Score :0.75 Random seed:162\n",
      "Train Score :0.9965277777777778 Test Score :0.7291666666666666 Random seed:163\n",
      "Train Score :1.0 Test Score :0.7447916666666666 Random seed:164\n",
      "Train Score :1.0 Test Score :0.7864583333333334 Random seed:165\n",
      "Train Score :0.9965277777777778 Test Score :0.7760416666666666 Random seed:166\n",
      "Train Score :0.9965277777777778 Test Score :0.7447916666666666 Random seed:167\n",
      "Train Score :0.9965277777777778 Test Score :0.7552083333333334 Random seed:168\n",
      "Train Score :0.9965277777777778 Test Score :0.7604166666666666 Random seed:169\n",
      "Train Score :1.0 Test Score :0.765625 Random seed:170\n",
      "Train Score :0.9965277777777778 Test Score :0.7447916666666666 Random seed:171\n",
      "Train Score :0.9965277777777778 Test Score :0.75 Random seed:172\n",
      "Train Score :0.9965277777777778 Test Score :0.7760416666666666 Random seed:173\n",
      "Train Score :0.9965277777777778 Test Score :0.7864583333333334 Random seed:174\n",
      "Train Score :0.9930555555555556 Test Score :0.7916666666666666 Random seed:175\n",
      "Train Score :0.9965277777777778 Test Score :0.734375 Random seed:176\n",
      "Train Score :0.9965277777777778 Test Score :0.7291666666666666 Random seed:177\n",
      "Train Score :0.9930555555555556 Test Score :0.78125 Random seed:178\n",
      "Train Score :0.9930555555555556 Test Score :0.796875 Random seed:179\n",
      "Train Score :1.0 Test Score :0.7708333333333334 Random seed:180\n",
      "Train Score :0.9965277777777778 Test Score :0.75 Random seed:181\n",
      "Train Score :0.9930555555555556 Test Score :0.7708333333333334 Random seed:182\n",
      "Train Score :0.9965277777777778 Test Score :0.7708333333333334 Random seed:183\n",
      "Train Score :0.9930555555555556 Test Score :0.7552083333333334 Random seed:184\n",
      "Train Score :1.0 Test Score :0.734375 Random seed:185\n",
      "Train Score :0.9930555555555556 Test Score :0.7708333333333334 Random seed:186\n",
      "Train Score :1.0 Test Score :0.7708333333333334 Random seed:187\n",
      "Train Score :1.0 Test Score :0.7135416666666666 Random seed:188\n",
      "Train Score :1.0 Test Score :0.8229166666666666 Random seed:189\n",
      "Train Score :0.9930555555555556 Test Score :0.7552083333333334 Random seed:190\n",
      "Train Score :0.9965277777777778 Test Score :0.7864583333333334 Random seed:191\n",
      "Train Score :1.0 Test Score :0.7395833333333334 Random seed:192\n",
      "Train Score :0.9965277777777778 Test Score :0.7760416666666666 Random seed:193\n",
      "Train Score :0.9930555555555556 Test Score :0.765625 Random seed:194\n",
      "Train Score :1.0 Test Score :0.7864583333333334 Random seed:195\n",
      "Train Score :0.9965277777777778 Test Score :0.7552083333333334 Random seed:196\n",
      "Train Score :1.0 Test Score :0.7708333333333334 Random seed:197\n",
      "Train Score :1.0 Test Score :0.703125 Random seed:198\n",
      "Train Score :0.9965277777777778 Test Score :0.7239583333333334 Random seed:199\n",
      "Train Score :0.9965277777777778 Test Score :0.75 Random seed:200\n"
     ]
    }
   ],
   "source": [
    "train_results = []\n",
    "for i in range(1,201):\n",
    "    X_train, X_test, y_train, y_test = train_test_split(X,y, test_size=0.4, random_state = i)\n",
    "    classifier = GradientBoostingClassifier(n_estimators=200)\n",
    "    clf = classifier.fit(X_train, y_train)\n",
    "    train_score = clf.score(X_train, y_train)\n",
    "    test_score = clf.score(X_test, y_test)\n",
    "    if test_score < train_score:\n",
    "        train_results.append({\"train_score\":train_score,\"test_score\":test_score,\"seed\":i})\n",
    "        print('Train Score :{} Test Score :{} Random seed:{}'.format(train_score,test_score,i))"
   ]
  },
  {
   "cell_type": "code",
   "execution_count": 41,
   "id": "0862e270",
   "metadata": {},
   "outputs": [],
   "source": [
    "new_train_res = sorted(train_results, key=itemgetter('test_score','train_score'),reverse=True)"
   ]
  },
  {
   "cell_type": "code",
   "execution_count": 42,
   "id": "b4341511",
   "metadata": {},
   "outputs": [],
   "source": [
    "seed = new_train_res[0]['seed']"
   ]
  },
  {
   "cell_type": "code",
   "execution_count": 43,
   "id": "3ca2066b",
   "metadata": {},
   "outputs": [
    {
     "data": {
      "text/plain": [
       "189"
      ]
     },
     "execution_count": 43,
     "metadata": {},
     "output_type": "execute_result"
    }
   ],
   "source": [
    "seed"
   ]
  },
  {
   "cell_type": "markdown",
   "id": "da71c921",
   "metadata": {},
   "source": [
    "#### Train Test Split"
   ]
  },
  {
   "cell_type": "code",
   "execution_count": 44,
   "id": "13dcf028",
   "metadata": {},
   "outputs": [],
   "source": [
    "X_train, X_test, y_train, y_test = train_test_split(X,y,test_size=0.4,random_state=seed)"
   ]
  },
  {
   "cell_type": "markdown",
   "id": "40d91719",
   "metadata": {},
   "source": [
    "#### Training the model"
   ]
  },
  {
   "cell_type": "code",
   "execution_count": 70,
   "id": "70150616",
   "metadata": {},
   "outputs": [],
   "source": [
    "model = GradientBoostingClassifier(n_estimators=200,random_state=seed)"
   ]
  },
  {
   "cell_type": "code",
   "execution_count": 71,
   "id": "b373656b",
   "metadata": {},
   "outputs": [],
   "source": [
    "gr = model.fit(X_train,y_train)"
   ]
  },
  {
   "cell_type": "code",
   "execution_count": 72,
   "id": "c398d459",
   "metadata": {},
   "outputs": [],
   "source": [
    "y_pred_train = gr.predict(X_train)"
   ]
  },
  {
   "cell_type": "code",
   "execution_count": 73,
   "id": "810267d0",
   "metadata": {},
   "outputs": [
    {
     "name": "stdout",
     "output_type": "stream",
     "text": [
      "              precision    recall  f1-score   support\n",
      "\n",
      "           N       1.00      1.00      1.00        94\n",
      "           Y       1.00      1.00      1.00       194\n",
      "\n",
      "    accuracy                           1.00       288\n",
      "   macro avg       1.00      1.00      1.00       288\n",
      "weighted avg       1.00      1.00      1.00       288\n",
      "\n"
     ]
    }
   ],
   "source": [
    "print(classification_report(y_train,y_pred_train))"
   ]
  },
  {
   "cell_type": "code",
   "execution_count": 74,
   "id": "139f9a50",
   "metadata": {},
   "outputs": [
    {
     "name": "stdout",
     "output_type": "stream",
     "text": [
      "Train Score: 1.0\n"
     ]
    }
   ],
   "source": [
    "print(\"Train Score:\", model.score(X_train, y_train))"
   ]
  },
  {
   "cell_type": "markdown",
   "id": "049c0835",
   "metadata": {},
   "source": [
    "#### Predicting the test data"
   ]
  },
  {
   "cell_type": "code",
   "execution_count": 75,
   "id": "912dea61",
   "metadata": {},
   "outputs": [],
   "source": [
    "hickle.dump(model, \"loan_prediction.hkl\")"
   ]
  },
  {
   "cell_type": "code",
   "execution_count": 76,
   "id": "2c9c1b21",
   "metadata": {},
   "outputs": [],
   "source": [
    "model = hickle.load(\"loan_prediction.hkl\")\n",
    "y_pred = model.predict(X_test)"
   ]
  },
  {
   "cell_type": "code",
   "execution_count": 77,
   "id": "24ed2e60",
   "metadata": {},
   "outputs": [
    {
     "name": "stdout",
     "output_type": "stream",
     "text": [
      "Test Score: 0.8229166666666666\n"
     ]
    }
   ],
   "source": [
    "print(\"Test Score:\", model.score(X_test, y_test))"
   ]
  },
  {
   "cell_type": "code",
   "execution_count": 78,
   "id": "165fa81c",
   "metadata": {},
   "outputs": [
    {
     "name": "stdout",
     "output_type": "stream",
     "text": [
      "              precision    recall  f1-score   support\n",
      "\n",
      "           N       0.81      0.48      0.60        54\n",
      "           Y       0.82      0.96      0.89       138\n",
      "\n",
      "    accuracy                           0.82       192\n",
      "   macro avg       0.82      0.72      0.75       192\n",
      "weighted avg       0.82      0.82      0.81       192\n",
      "\n"
     ]
    }
   ],
   "source": [
    "print(classification_report(y_test, y_pred))"
   ]
  },
  {
   "cell_type": "markdown",
   "id": "20595377",
   "metadata": {},
   "source": [
    "#### Confusion Matrix(Train)"
   ]
  },
  {
   "cell_type": "code",
   "execution_count": 79,
   "id": "8788a026",
   "metadata": {},
   "outputs": [
    {
     "name": "stdout",
     "output_type": "stream",
     "text": [
      "[[ 94   0]\n",
      " [  0 194]]\n"
     ]
    }
   ],
   "source": [
    "cm = confusion_matrix(y_train, y_pred_train)\n",
    "print(cm)"
   ]
  },
  {
   "cell_type": "code",
   "execution_count": 80,
   "id": "5b7b2a40",
   "metadata": {},
   "outputs": [
    {
     "data": {
      "text/plain": [
       "<AxesSubplot:>"
      ]
     },
     "execution_count": 80,
     "metadata": {},
     "output_type": "execute_result"
    },
    {
     "data": {
      "image/png": "[encoded data removed]",
      "text/plain": [
       "<Figure size 432x288 with 2 Axes>"
      ]
     },
     "metadata": {
      "needs_background": "light"
     },
     "output_type": "display_data"
    }
   ],
   "source": [
    "sns.heatmap(cm, annot = True, fmt = '0.2f')"
   ]
  },
  {
   "cell_type": "code",
   "execution_count": 81,
   "id": "78542eb4",
   "metadata": {},
   "outputs": [
    {
     "data": {
      "text/html": [
       "<div>\n",
       "<style scoped>\n",
       "    .dataframe tbody tr th:only-of-type {\n",
       "        vertical-align: middle;\n",
       "    }\n",
       "\n",
       "    .dataframe tbody tr th {\n",
       "        vertical-align: top;\n",
       "    }\n",
       "\n",
       "    .dataframe thead th {\n",
       "        text-align: right;\n",
       "    }\n",
       "</style>\n",
       "<table border=\"1\" class=\"dataframe\">\n",
       "  <thead>\n",
       "    <tr style=\"text-align: right;\">\n",
       "      <th>Predicted</th>\n",
       "      <th>N</th>\n",
       "      <th>Y</th>\n",
       "      <th>All</th>\n",
       "    </tr>\n",
       "    <tr>\n",
       "      <th>Actual</th>\n",
       "      <th></th>\n",
       "      <th></th>\n",
       "      <th></th>\n",
       "    </tr>\n",
       "  </thead>\n",
       "  <tbody>\n",
       "    <tr>\n",
       "      <th>N</th>\n",
       "      <td>94</td>\n",
       "      <td>0</td>\n",
       "      <td>94</td>\n",
       "    </tr>\n",
       "    <tr>\n",
       "      <th>Y</th>\n",
       "      <td>0</td>\n",
       "      <td>194</td>\n",
       "      <td>194</td>\n",
       "    </tr>\n",
       "    <tr>\n",
       "      <th>All</th>\n",
       "      <td>94</td>\n",
       "      <td>194</td>\n",
       "      <td>288</td>\n",
       "    </tr>\n",
       "  </tbody>\n",
       "</table>\n",
       "</div>"
      ],
      "text/plain": [
       "Predicted   N    Y  All\n",
       "Actual                 \n",
       "N          94    0   94\n",
       "Y           0  194  194\n",
       "All        94  194  288"
      ]
     },
     "execution_count": 81,
     "metadata": {},
     "output_type": "execute_result"
    }
   ],
   "source": [
    "df_confusion_train = pd.crosstab(y_train, y_pred_train, rownames= [ 'Actual'], colnames = [ 'Predicted'], margins = True)\n",
    "df_confusion_train"
   ]
  },
  {
   "cell_type": "markdown",
   "id": "f8687730",
   "metadata": {},
   "source": [
    "#### Confusion Matrix(Test)"
   ]
  },
  {
   "cell_type": "code",
   "execution_count": 82,
   "id": "a84ed7ff",
   "metadata": {},
   "outputs": [
    {
     "name": "stdout",
     "output_type": "stream",
     "text": [
      "[[ 26  28]\n",
      " [  6 132]]\n"
     ]
    }
   ],
   "source": [
    "cm_test = confusion_matrix(y_test, y_pred)\n",
    "print(cm_test)"
   ]
  },
  {
   "cell_type": "code",
   "execution_count": 83,
   "id": "092161d3",
   "metadata": {},
   "outputs": [
    {
     "data": {
      "text/plain": [
       "<AxesSubplot:>"
      ]
     },
     "execution_count": 83,
     "metadata": {},
     "output_type": "execute_result"
    },
    {
     "data": {
      "image/png": "[encoded data removed]",
      "text/plain": [
       "<Figure size 432x288 with 2 Axes>"
      ]
     },
     "metadata": {
      "needs_background": "light"
     },
     "output_type": "display_data"
    }
   ],
   "source": [
    "sns.heatmap(cm_test, annot = True, fmt = '0.2f')"
   ]
  },
  {
   "cell_type": "code",
   "execution_count": 84,
   "id": "d8c2821d",
   "metadata": {},
   "outputs": [
    {
     "data": {
      "text/html": [
       "<div>\n",
       "<style scoped>\n",
       "    .dataframe tbody tr th:only-of-type {\n",
       "        vertical-align: middle;\n",
       "    }\n",
       "\n",
       "    .dataframe tbody tr th {\n",
       "        vertical-align: top;\n",
       "    }\n",
       "\n",
       "    .dataframe thead th {\n",
       "        text-align: right;\n",
       "    }\n",
       "</style>\n",
       "<table border=\"1\" class=\"dataframe\">\n",
       "  <thead>\n",
       "    <tr style=\"text-align: right;\">\n",
       "      <th>Predicted</th>\n",
       "      <th>N</th>\n",
       "      <th>Y</th>\n",
       "      <th>All</th>\n",
       "    </tr>\n",
       "    <tr>\n",
       "      <th>Actual</th>\n",
       "      <th></th>\n",
       "      <th></th>\n",
       "      <th></th>\n",
       "    </tr>\n",
       "  </thead>\n",
       "  <tbody>\n",
       "    <tr>\n",
       "      <th>N</th>\n",
       "      <td>26</td>\n",
       "      <td>28</td>\n",
       "      <td>54</td>\n",
       "    </tr>\n",
       "    <tr>\n",
       "      <th>Y</th>\n",
       "      <td>6</td>\n",
       "      <td>132</td>\n",
       "      <td>138</td>\n",
       "    </tr>\n",
       "    <tr>\n",
       "      <th>All</th>\n",
       "      <td>32</td>\n",
       "      <td>160</td>\n",
       "      <td>192</td>\n",
       "    </tr>\n",
       "  </tbody>\n",
       "</table>\n",
       "</div>"
      ],
      "text/plain": [
       "Predicted   N    Y  All\n",
       "Actual                 \n",
       "N          26   28   54\n",
       "Y           6  132  138\n",
       "All        32  160  192"
      ]
     },
     "execution_count": 84,
     "metadata": {},
     "output_type": "execute_result"
    }
   ],
   "source": [
    "df_confusion_test = pd.crosstab(y_test, y_pred, rownames= [ 'Actual'], colnames = [ 'Predicted'], margins = True)\n",
    "df_confusion_test"
   ]
  },
  {
   "cell_type": "markdown",
   "id": "2e5de40a",
   "metadata": {},
   "source": [
    "# Validation Data Set"
   ]
  },
  {
   "cell_type": "code",
   "execution_count": 85,
   "id": "5a57a39c",
   "metadata": {},
   "outputs": [],
   "source": [
    "gf_model = hickle.load(\"loan_prediction.hkl\")"
   ]
  },
  {
   "cell_type": "code",
   "execution_count": 86,
   "id": "302f9143",
   "metadata": {},
   "outputs": [],
   "source": [
    "test = pd.get_dummies(test)"
   ]
  },
  {
   "cell_type": "code",
   "execution_count": 87,
   "id": "b3eb3835",
   "metadata": {},
   "outputs": [
    {
     "data": {
      "text/plain": [
       "((289, 20), (289, 12))"
      ]
     },
     "execution_count": 87,
     "metadata": {},
     "output_type": "execute_result"
    }
   ],
   "source": [
    "test.shape, test_orig.shape"
   ]
  },
  {
   "cell_type": "code",
   "execution_count": 88,
   "id": "6eaa4076",
   "metadata": {},
   "outputs": [],
   "source": [
    "pred = gf_model.predict(test)"
   ]
  },
  {
   "cell_type": "code",
   "execution_count": 89,
   "id": "6013fa25",
   "metadata": {},
   "outputs": [],
   "source": [
    "final_submission = pd.DataFrame()"
   ]
  },
  {
   "cell_type": "code",
   "execution_count": 90,
   "id": "f761ac17",
   "metadata": {},
   "outputs": [],
   "source": [
    "test_orig.dropna(inplace=True)"
   ]
  },
  {
   "cell_type": "code",
   "execution_count": 91,
   "id": "8e45a259",
   "metadata": {},
   "outputs": [],
   "source": [
    "final_submission['Loan_ID']=test_orig['Loan_ID']\n",
    "final_submission['Loan_Status']=pred"
   ]
  },
  {
   "cell_type": "code",
   "execution_count": 92,
   "id": "7c73e963",
   "metadata": {},
   "outputs": [
    {
     "data": {
      "text/plain": [
       "Y    223\n",
       "N     66\n",
       "Name: Loan_Status, dtype: int64"
      ]
     },
     "execution_count": 92,
     "metadata": {},
     "output_type": "execute_result"
    }
   ],
   "source": [
    "final_submission[\"Loan_Status\"].value_counts()"
   ]
  },
  {
   "cell_type": "code",
   "execution_count": 93,
   "id": "bb33f204",
   "metadata": {},
   "outputs": [],
   "source": [
    "final_submission.to_csv(\"submission.csv\")"
   ]
  },
  {
   "cell_type": "code",
   "execution_count": 104,
   "id": "1253b6f3",
   "metadata": {},
   "outputs": [
    {
     "data": {
      "text/plain": [
       "77.16262975778547"
      ]
     },
     "execution_count": 104,
     "metadata": {},
     "output_type": "execute_result"
    }
   ],
   "source": [
    "(int(final_submission[final_submission[\"Loan_Status\"] == \"Y\"][\"Loan_Status\"].value_counts()[0]) / int(final_submission.shape[0]))*100"
   ]
  },
  {
   "cell_type": "code",
   "execution_count": 101,
   "id": "9a4c6db7",
   "metadata": {},
   "outputs": [
    {
     "data": {
      "text/plain": [
       "289"
      ]
     },
     "execution_count": 101,
     "metadata": {},
     "output_type": "execute_result"
    }
   ],
   "source": [
    "final_submission.shape[0]"
   ]
  },
  {
   "cell_type": "code",
   "execution_count": null,
   "id": "bbc8c84f",
   "metadata": {},
   "outputs": [],
   "source": []
  }
 ],
 "metadata": {
  "kernelspec": {
   "display_name": "Python 3 (ipykernel)",
   "language": "python",
   "name": "python3"
  },
  "language_info": {
   "codemirror_mode": {
    "name": "ipython",
    "version": 3
   },
   "file_extension": ".py",
   "mimetype": "text/x-python",
   "name": "python",
   "nbconvert_exporter": "python",
   "pygments_lexer": "ipython3",
   "version": "3.9.12"
  }
 },
 "nbformat": 4,
 "nbformat_minor": 5
}
